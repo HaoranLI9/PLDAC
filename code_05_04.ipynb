{
 "cells": [
  {
   "cell_type": "code",
   "execution_count": 1,
   "id": "needed-clone",
   "metadata": {},
   "outputs": [],
   "source": [
    "from IPython.display import SVG\n",
    "\n",
    "import numpy as np\n",
    "from scipy import sparse\n",
    "from scipy.interpolate import interp1d\n",
    "\n",
    "from sknetwork.utils import edgelist2adjacency, edgelist2biadjacency\n",
    "from sknetwork.visualization import svg_graph, svg_digraph, svg_bigraph\n",
    "import matplotlib.pyplot as plt\n"
   ]
  },
  {
   "cell_type": "code",
   "execution_count": 2,
   "id": "excellent-hormone",
   "metadata": {},
   "outputs": [],
   "source": [
    "def matrice_adjacence(edge_list):\n",
    "    \"\"\"\n",
    "    :para edge list \n",
    "    :type list\n",
    "    :return matrice d'adjacence\n",
    "    :rtype array (sparse matrix)\n",
    "    cette fonction permet d'utiliser edge_list pour transmettre a une matrice d'adjacence.\n",
    "    \"\"\"\n",
    "    adjacency = edgelist2adjacency(edge_list)\n",
    "    myarray=adjacency.A\n",
    "    n = myarray.shape[0]\n",
    "    matrice = np.zeros((n,n))\n",
    "    for i in range (myarray.shape[0]):\n",
    "            matrice[i]=list(map(int, myarray[i]))\n",
    "    return matrice"
   ]
  },
  {
   "cell_type": "code",
   "execution_count": 3,
   "id": "armed-exception",
   "metadata": {},
   "outputs": [],
   "source": [
    "def matrice_degree(mat_adjacency):\n",
    "    \"\"\"\n",
    "    :para une matrice d'adjacence \n",
    "    :type array (sparse matrix)\n",
    "    :return une matrice degree \n",
    "    :rtype array (sparse matrix)\n",
    "    cette fonction permet d'utiliser la matrice d'adjacence pour trouver la matrice degree\n",
    "    la matrice des degrés est une matrice qui contient des informations sur le degré de chaque sommet d'un graphe.\n",
    "    \"\"\"\n",
    "    n = mat_adjacency.shape[0]\n",
    "    degree = np.zeros((n, n))\n",
    "    temps = mat_adjacency.sum(axis = 1)\n",
    "    for i in range(n):\n",
    "        degree[i][i] = temps[i]\n",
    "    return degree"
   ]
  },
  {
   "cell_type": "code",
   "execution_count": 4,
   "id": "stretch-telling",
   "metadata": {},
   "outputs": [],
   "source": [
    "def matrice_laplacien(mat_adjacency):\n",
    "    \"\"\"\n",
    "    :para une matrice d'adjacence sparse\n",
    "    :type array (sparse matrix)\n",
    "    :return une matrice laplacienne\n",
    "    :rtype array (sparse matrix)\n",
    "    cette fonction permet d'utiliser la matrice d'adjacence pour trouver la matrice laplacienne\n",
    "    la matrice laplacienne a une interprétation algébrique ce qui rend son analyse spectrale fructueuse.\n",
    "    \"\"\"\n",
    "    degree = matrice_degree(mat_adjacency)\n",
    "    res = degree - mat_adjacency\n",
    "    return res"
   ]
  },
  {
   "cell_type": "code",
   "execution_count": 5,
   "id": "decent-button",
   "metadata": {},
   "outputs": [],
   "source": [
    "def make_random_adjacency(nbVertex):\n",
    "    \"\"\"\n",
    "    :para nbVertex\n",
    "    :type nt\n",
    "    :return matrice d'adjacency\n",
    "    :rtype array\n",
    "    En savant le nombre de neoud, cette fontion est pour former une matrice d'adjacence random, car on ne peut pas lister tous les types manuellement\n",
    "    \"\"\"\n",
    "    matrix = np.zeros((nbVertex, nbVertex))\n",
    "    for i in range(nbVertex):\n",
    "        for j in range(nbVertex):\n",
    "            matrix[i][j] = np.random.randint(0,2) # ou round(np.random.rand())\n",
    "        matrix[0][0]=1\n",
    "    return matrix"
   ]
  },
  {
   "cell_type": "code",
   "execution_count": 6,
   "id": "three-jungle",
   "metadata": {},
   "outputs": [],
   "source": [
    "def make_random_edgelist(nbVertex=4):\n",
    "    \"\"\"\n",
    "    :para nbVertex\n",
    "    :type int\n",
    "    :return edgelist\n",
    "    :rtype array\n",
    "    En savant le nombre de noeud, cette fonction peut former une liste d'arrete aleatoirement.\n",
    "    \"\"\"\n",
    "    maxNbEdges = (nbVertex**2)-nbVertex\n",
    "\n",
    "    edgelist = list()\n",
    "    for vertex in range(nbVertex):\n",
    "        tab = np.arange(nbVertex)\n",
    "        tab = np.delete(tab, vertex) # delete the current vertex\n",
    "        nbEdges = np.random.randint(0, nbVertex) # generate number of edges of this vertex\n",
    "        for i  in range(nbEdges):\n",
    "            n = np.random.choice(tab)\n",
    "            edgelist.append((vertex, n))\n",
    "            indx, = np.where(tab==n)\n",
    "            tab = np.delete(tab, indx) # update tab\n",
    "    return edgelist"
   ]
  },
  {
   "cell_type": "code",
   "execution_count": 7,
   "id": "adjacent-return",
   "metadata": {},
   "outputs": [],
   "source": [
    "def make_random_adjacency_undirected(nbVertex):\n",
    "    \"\"\"\n",
    "    :para nbVertex\n",
    "    :type int\n",
    "    :return matrice d'adjacency\n",
    "    :rtype array\n",
    "    cette fonction permet de former une matrice d'ajancence des graphes sans direction(undirected)\n",
    "    Dans ce cas undirected, la matrice d'adjacence doit etre symetrique\n",
    "    \"\"\"\n",
    "    matrix = np.zeros((nbVertex, nbVertex))\n",
    "    while True:\n",
    "        for i in range(nbVertex):\n",
    "            for j in range(1+i, nbVertex):            \n",
    "                matrix[i][j] = matrix[j][i] = np.random.randint(0,2)#Matrice symétriqueque \n",
    "        if 0 not in np.sum(matrix, axis=1):#Graphe sans noeud isolée filter les matrices avec noeud isolée\n",
    "            break\n",
    "    return matrix"
   ]
  },
  {
   "cell_type": "code",
   "execution_count": 8,
   "id": "subject-decimal",
   "metadata": {},
   "outputs": [],
   "source": [
    "def distance_2graph(matrice_G1, matrice_G2):\n",
    "    \"\"\"\n",
    "    :para 2 matrices de 2 graphe,\n",
    "    :type array (sparse matrix)\n",
    "    :return distance entre 2 graphes \n",
    "    :rtype double\n",
    "    en utilisant valeurs propres des matrices, cette fonction retourne la distance.\n",
    "    Les matrices, elles sont souvent matrice d'adjacence. elles peuvent etre les matrices laplaciennes ou autres\n",
    "    \"\"\"\n",
    "    VP1 = np.linalg.eig(matrice_G1)[0]#les valeurs propres de premier graph\n",
    "    VP1 = np.array(sorted(VP1,reverse=True))#ordonner les valeurs propres\n",
    "    VP2 = np.linalg.eig(matrice_G2)[0]#les valeurs propres de deuxieme graph\n",
    "    VP2 = np.array(sorted(VP2,reverse=True))#ordonner \n",
    "    res = np.linalg.norm(VP1 - VP2)**2#sum des carrés de différence de VP\n",
    "    return res"
   ]
  },
  {
   "cell_type": "code",
   "execution_count": 9,
   "id": "original-premises",
   "metadata": {},
   "outputs": [],
   "source": [
    "def distance_2graph_combine(adjacency_G1, adjacency_G2, alpha = 0.5):\n",
    "    \"\"\"\n",
    "    :para 2 matrices d'adjancence, alpha qui define poids des adjacence et laplacien\n",
    "    :type array (sparse matrix), alpha : double\n",
    "    :return distance combine avec adjancence et laplacien\n",
    "    :rtype double\n",
    "    ici, on utilise αJSSA(G1, G2 ) + (1 − α)JSSL(G1, G2 ) (14) with α ∈ [0, 1], a weighting factor\n",
    "    JSSA distance d'adjacence, JSSL distance de laplacien\n",
    "    JSS : Joint Spectral Similarity voir l'article de reference\n",
    "    alpha: weighting factor α controls the significance of each distance \n",
    "    and allows more importance to be given to the A-spectral distance or to the L-spectral distance.\n",
    "    \"\"\"\n",
    "    JSSA = distance_2graph(adjacency_G1, adjacency_G2)\n",
    "    JSSL = distance_2graph(matrice_laplacien(adjacency_G1), matrice_laplacien(adjacency_G2))\n",
    "    JSS  = alpha * JSSA + (1 - alpha) * JSSL\n",
    "    return JSS"
   ]
  },
  {
   "cell_type": "code",
   "execution_count": 10,
   "id": "thermal-experience",
   "metadata": {},
   "outputs": [],
   "source": [
    "def distance_2graphe_diff_vertex_simple(adjacency_G1, adjacency_G2, alpha = 0.5):\n",
    "    \"\"\"\n",
    "    :para 2 matrices d'adjancence, alpha a weighting factor\n",
    "    :type array, alpha : double\n",
    "    :return distance entre \n",
    "    :rtype double\n",
    "    cette fonction est une méthode simple pour calculer la distance entre 2 graphes avec noeuds differents\n",
    "    comme le papier de Bay-Ahmed, on compte seulment les K premiers valeurs propres. k = min(N1, N2)\n",
    "    \"\"\"\n",
    "    N1, N2 = adjacency_G1.shape[0], adjacency_G2.shape[0]\n",
    "    k = min(N1, N2)\n",
    "    VP1 = np.linalg.eig(adjacency_G1)[0]#les valeurs propres de premier graph\n",
    "    VP1 = np.array(sorted(VP1,reverse=True))[:k]#ordonner les valeurs propres\n",
    "    VP2 = np.linalg.eig(adjacency_G2)[0]#les valeurs propres de deuxieme graph\n",
    "    VP2 = np.array(sorted(VP2,reverse=True))[:k]#ordonner \n",
    "    JSSA = np.linalg.norm(VP1 - VP2)**2#sum des carrés de différence de VP\n",
    "\n",
    "    VP3 = np.linalg.eig(matrice_laplacien(adjacency_G1))[0]#les valeurs propres de premier graph\n",
    "    VP3 = np.array(sorted(VP3,reverse=True))[:k]#ordonner les valeurs propres\n",
    "    VP4 = np.linalg.eig(matrice_laplacien(adjacency_G2))[0]#les valeurs propres de deuxieme graph\n",
    "    VP4 = np.array(sorted(VP4,reverse=True))[:k]#ordonner \n",
    "    JSSL = np.linalg.norm(VP3 - VP4)**2#sum des carrés de différence de VP\n",
    "\n",
    "    JSS = alpha * JSSA + (1 - alpha) * JSSL\n",
    "    return JSS\n",
    "    "
   ]
  },
  {
   "cell_type": "code",
   "execution_count": 11,
   "id": "least-encounter",
   "metadata": {},
   "outputs": [],
   "source": [
    "def line_topology(nbVertex=10):\n",
    "    \"\"\"\n",
    "    :return array of matrix d'adjancence\n",
    "    \"\"\"\n",
    "    res = np.zeros((nbVertex, nbVertex))\n",
    "    for i in range(nbVertex-1):\n",
    "        res[i+1, i] = 1\n",
    "        res[i, i+1] = 1\n",
    "    return res"
   ]
  },
  {
   "cell_type": "code",
   "execution_count": 12,
   "id": "statistical-calgary",
   "metadata": {},
   "outputs": [],
   "source": [
    "def full_topology(nbVertex = 10):\n",
    "    \"\"\"\n",
    "    :return array of matrix d'adjancence\n",
    "    \"\"\"\n",
    "    res = np.ones((nbVertex, nbVertex))\n",
    "    for i in range(nbVertex):\n",
    "        res[i,i] = 0\n",
    "    return res"
   ]
  },
  {
   "cell_type": "code",
   "execution_count": 13,
   "id": "expected-nation",
   "metadata": {},
   "outputs": [],
   "source": [
    "def star_topology(nbVertex = 10):\n",
    "    \"\"\"\n",
    "    :return array of matrix d'adjancence\n",
    "    \"\"\"\n",
    "    res = np.zeros((nbVertex, nbVertex))\n",
    "    for i in range(1, nbVertex):\n",
    "        res[i,0] = 1\n",
    "        res[0,i] = 1\n",
    "    return res"
   ]
  },
  {
   "cell_type": "code",
   "execution_count": 14,
   "id": "operating-permission",
   "metadata": {},
   "outputs": [],
   "source": [
    "def ring_topology(nbVertex = 10):\n",
    "    \"\"\"\n",
    "    :return array of matrix d'adjancence\n",
    "    \"\"\"\n",
    "    res = np.zeros((nbVertex, nbVertex))\n",
    "    res[0, nbVertex-1] = 1\n",
    "    res[nbVertex-1, 0] = 1\n",
    "    for i in range(nbVertex-1):\n",
    "        res[i+1, i] = 1\n",
    "        res[i, i+1] = 1\n",
    "    return res"
   ]
  },
  {
   "cell_type": "code",
   "execution_count": 24,
   "id": "administrative-biography",
   "metadata": {},
   "outputs": [
    {
     "data": {
      "image/svg+xml": [
       "<svg xmlns=\"http://www.w3.org/2000/svg\" width=\"440\" height=\"340\">\n",
       "<path stroke-width=\"1.0\" stroke=\"black\" d=\"M 24 105 140 20\"/>\n",
       "<path stroke-width=\"1.0\" stroke=\"black\" d=\"M 24 105 20 227\"/>\n",
       "<path stroke-width=\"1.0\" stroke=\"black\" d=\"M 140 20 24 105\"/>\n",
       "<path stroke-width=\"1.0\" stroke=\"black\" d=\"M 140 20 309 22\"/>\n",
       "<path stroke-width=\"1.0\" stroke=\"black\" d=\"M 309 22 140 20\"/>\n",
       "<path stroke-width=\"1.0\" stroke=\"black\" d=\"M 309 22 420 112\"/>\n",
       "<path stroke-width=\"1.0\" stroke=\"black\" d=\"M 420 112 309 22\"/>\n",
       "<path stroke-width=\"1.0\" stroke=\"black\" d=\"M 420 112 415 234\"/>\n",
       "<path stroke-width=\"1.0\" stroke=\"black\" d=\"M 415 234 420 112\"/>\n",
       "<path stroke-width=\"1.0\" stroke=\"black\" d=\"M 415 234 299 320\"/>\n",
       "<path stroke-width=\"1.0\" stroke=\"black\" d=\"M 299 320 415 234\"/>\n",
       "<path stroke-width=\"1.0\" stroke=\"black\" d=\"M 299 320 130 317\"/>\n",
       "<path stroke-width=\"1.0\" stroke=\"black\" d=\"M 130 317 299 320\"/>\n",
       "<path stroke-width=\"1.0\" stroke=\"black\" d=\"M 130 317 20 227\"/>\n",
       "<path stroke-width=\"1.0\" stroke=\"black\" d=\"M 20 227 24 105\"/>\n",
       "<path stroke-width=\"1.0\" stroke=\"black\" d=\"M 20 227 130 317\"/>\n",
       "<circle cx=\"24\" cy=\"105\" r=\"7.0\" style=\"fill:gray;stroke:black;stroke-width:1.0\"/>\n",
       "<circle cx=\"140\" cy=\"20\" r=\"7.0\" style=\"fill:gray;stroke:black;stroke-width:1.0\"/>\n",
       "<circle cx=\"309\" cy=\"22\" r=\"7.0\" style=\"fill:gray;stroke:black;stroke-width:1.0\"/>\n",
       "<circle cx=\"420\" cy=\"112\" r=\"7.0\" style=\"fill:gray;stroke:black;stroke-width:1.0\"/>\n",
       "<circle cx=\"415\" cy=\"234\" r=\"7.0\" style=\"fill:gray;stroke:black;stroke-width:1.0\"/>\n",
       "<circle cx=\"299\" cy=\"320\" r=\"7.0\" style=\"fill:gray;stroke:black;stroke-width:1.0\"/>\n",
       "<circle cx=\"130\" cy=\"317\" r=\"7.0\" style=\"fill:gray;stroke:black;stroke-width:1.0\"/>\n",
       "<circle cx=\"20\" cy=\"227\" r=\"7.0\" style=\"fill:gray;stroke:black;stroke-width:1.0\"/>\n",
       "</svg>"
      ],
      "text/plain": [
       "<IPython.core.display.SVG object>"
      ]
     },
     "execution_count": 24,
     "metadata": {},
     "output_type": "execute_result"
    }
   ],
   "source": [
    "#adjacency = line_topology(8)\n",
    "#adjacency = star_topology(8)\n",
    "adjacency = ring_topology(8)\n",
    "#adjacency = full_topology(8)\n",
    "adjacency_matrix = sparse.csr_matrix(adjacency)\n",
    "\n",
    "image = svg_graph(adjacency_matrix)\n",
    "SVG(image)"
   ]
  },
  {
   "cell_type": "code",
   "execution_count": 16,
   "id": "durable-screening",
   "metadata": {},
   "outputs": [],
   "source": [
    "def make_dataset(n = 10):\n",
    "    \"\"\"\n",
    "    :return une liste de donnees des matrices d'adjacence\n",
    "    \"\"\"\n",
    "    res = []\n",
    "    for i in range(4,n):\n",
    "        res.append(ring_topology(i))\n",
    "        res.append(line_topology(i))\n",
    "        res.append(full_topology(i))\n",
    "        res.append(star_topology(i))\n",
    "    return res"
   ]
  },
  {
   "cell_type": "code",
   "execution_count": 17,
   "id": "necessary-precipitation",
   "metadata": {},
   "outputs": [],
   "source": [
    "def interpolateEigenvalues(array1, array2, kind='linear'):\n",
    "    \"\"\"\n",
    "    Fonction permettant d'interpoler l'ensemble des valeurs propre le plus petit pour avoir autant de valeur que dans le plus grand ensemble\n",
    "    :param array1: tableau de valeurs propre\n",
    "    :type array1: Numpy 1D array\n",
    "    :param array2: tableau de valeurs propre\n",
    "    :type array2: Numpy array\n",
    "    :return: array1, array2\n",
    "    :rtype: Numpy 1d Array, Numpy 1d Array\n",
    "    \"\"\"\n",
    "    minArray = array1\n",
    "    maxArray = array2\n",
    "    if array1.shape[0]>array2.shape[0]:\n",
    "        minArray = array2\n",
    "        maxArray = array1\n",
    "    elif array1.shape[0]==array2.shape[0]:\n",
    "        return array1, array2\n",
    "\n",
    "    common_x = np.linspace(0, 1, len(maxArray))\n",
    "    x = np.linspace(0, 1, len(minArray))\n",
    "    f = interp1d(x, np.array(sorted(minArray,reverse=True)), kind=kind)\n",
    "    min1dArrayInterpolated = f(common_x)\n",
    "    \n",
    "    # ordered arrays\n",
    "    min1dArrayInterpolated = np.array(sorted(min1dArrayInterpolated,reverse=True))\n",
    "    maxArray = np.array(sorted(maxArray,reverse=True))\n",
    "\n",
    "    if array1.shape[0]>array2.shape[0]:\n",
    "        return maxArray, min1dArrayInterpolated\n",
    "    return min1dArrayInterpolated, maxArray"
   ]
  },
  {
   "cell_type": "code",
   "execution_count": 2,
   "id": "stupid-queue",
   "metadata": {},
   "outputs": [],
   "source": [
    "def linInterpolateEigenvalues(array1, array2):\n",
    "    \"\"\"\n",
    "    Fonction permettant d'interpoler l'ensemble des valeurs propre le plus petit pour avoir autant de valeur que dans le plus grand ensemble\n",
    "     \n",
    "    :param array1: tableau de valeurs propre\n",
    "    :type array1: Numpy 1D array\n",
    "    :param array2: tableau de valeurs propre\n",
    "    :type array2: Numpy array\n",
    "    :return: array1, array2\n",
    "    :rtype: Numpy 1d Array, Numpy 1d Array\n",
    "    \"\"\"\n",
    "    minArray = array1\n",
    "    maxArray = array2\n",
    "    if array1.shape[0]>array2.shape[0]:\n",
    "        minArray = array2\n",
    "        maxArray = array1\n",
    "    elif array1.shape[0]==array2.shape[0]:\n",
    "        return array1, array2\n",
    "    \n",
    "    x = np.linspace(0,1, len(maxArray))\n",
    "    xp = np.linspace(0,1, len(minArray))\n",
    "    fp = np.array(sorted(minArray,reverse=True))\n",
    "    min1dArrayInterpolated = np.interp(x, xp, fp)\n",
    "    \n",
    "    # ordered arrays\n",
    "    min1dArrayInterpolated = np.array(sorted(min1dArrayInterpolated,reverse=True))\n",
    "    maxArray = np.array(sorted(maxArray,reverse=True))\n",
    "\n",
    "    if array1.shape[0]>array2.shape[0]:\n",
    "        return maxArray, min1dArrayInterpolated\n",
    "    return min1dArrayInterpolated, maxArray"
   ]
  },
  {
   "cell_type": "code",
   "execution_count": 19,
   "id": "emotional-straight",
   "metadata": {},
   "outputs": [],
   "source": [
    "def distance_2graphe_diff_vertex_v2(adjacency_G1, adjacency_G2, alpha = 0.5):\n",
    "    \"\"\"\n",
    "    Version 2 de la méthode de calcul de distance avec 2 graphes n'ayant pas le même nombre de noeuds.\n",
    "    Cette version 2 consiste à interpoller l'ensemble des valeurs propres le plus petit pour avoir deux ensembles de mêmes taille à comparer\n",
    "    :para 2 matrices d'adjancence, alpha a weighting factor\n",
    "    :type array, alpha : double\n",
    "    :return distance entre \n",
    "    :rtype double\n",
    "    cette fonction est une méthode simple pour calculer la distance entre 2 graphes avec noeuds differents\n",
    "    comme le papier de Bay-Ahmed, on compte seulment les K premiers valeurs propres. k = min(N1, N2)\n",
    "    \"\"\"\n",
    "    VP1 = np.linalg.eig(adjacency_G1)[0]#les valeurs propres de premier graph\n",
    "    VP2 = np.linalg.eig(adjacency_G2)[0]#les valeurs propres de deuxieme graph\n",
    "    VP1, VP2 = interpolateEigenvalues(VP1, VP2, kind='nearest')\n",
    "    #VP1 = np.array(sorted(VP1,reverse=True))# ordonner les valeurs propres\n",
    "    #VP2 = np.array(sorted(VP2,reverse=True)) \n",
    "\n",
    "    JSSA = np.linalg.norm(VP1 - VP2)**2#sum des carrés de différence de VP\n",
    "\n",
    "    VP3 = np.linalg.eig(matrice_laplacien(adjacency_G1))[0]#les valeurs propres de premier graph\n",
    "    VP4 = np.linalg.eig(matrice_laplacien(adjacency_G2))[0]#les valeurs propres de deuxieme graph\n",
    "    VP3, VP4 = interpolateEigenvalues(VP3, VP4, kind='nearest')\n",
    "    #VP3 = np.array(sorted(VP3,reverse=True))# ordonner les valeurs propres\n",
    "    #VP4 = np.array(sorted(VP4,reverse=True)) \n",
    "\n",
    "    JSSL = np.linalg.norm(VP3 - VP4)**2#sum des carrés de différence de VP\n",
    "\n",
    "    JSS = alpha * JSSA + (1 - alpha) * JSSL\n",
    "    return JSS"
   ]
  },
  {
   "cell_type": "code",
   "execution_count": 20,
   "id": "absent-trauma",
   "metadata": {},
   "outputs": [],
   "source": [
    "def identifier(dataset, matrice_ajacence):\n",
    "    \"\"\"\n",
    "    cette fonction permet de trouver les graphes similaires en savant une matrice d'adjacence\n",
    "    :return on retourne les 4 ids des primiers similaire graphes\n",
    "    \"\"\"\n",
    "    res = []\n",
    "    distance = {}\n",
    "    for i in range(len(dataset)):\n",
    "        distance[i] = distance_2graphe_diff_vertex_v2(dataset[i], matrice_ajacence)#distance_2graphe_diff_vertex_v2\n",
    "        #distance_2graphe_diff_vertex_simple\n",
    "    ids = []\n",
    "    for i in sorted(distance.items(), key = lambda x: x[1])[:4]:\n",
    "        id, _ = i\n",
    "        ids.append(id)\n",
    "    return ids"
   ]
  },
  {
   "cell_type": "code",
   "execution_count": 25,
   "id": "computational-proposition",
   "metadata": {},
   "outputs": [
    {
     "data": {
      "text/plain": [
       "24"
      ]
     },
     "execution_count": 25,
     "metadata": {},
     "output_type": "execute_result"
    }
   ],
   "source": [
    "dataset = make_dataset()\n",
    "len(dataset)"
   ]
  },
  {
   "cell_type": "code",
   "execution_count": 33,
   "id": "caroline-candy",
   "metadata": {},
   "outputs": [
    {
     "data": {
      "text/plain": [
       "[7, 11, 3, 0]"
      ]
     },
     "execution_count": 33,
     "metadata": {},
     "output_type": "execute_result"
    }
   ],
   "source": [
    "#0，4，8，12, 16 sont le même type\n",
    "#i, i+4*n\n",
    "identifier(dataset, dataset[7])"
   ]
  },
  {
   "cell_type": "code",
   "execution_count": 32,
   "id": "racial-spoke",
   "metadata": {},
   "outputs": [
    {
     "data": {
      "image/svg+xml": [
       "<svg xmlns=\"http://www.w3.org/2000/svg\" width=\"440\" height=\"340\">\n",
       "<path stroke-width=\"1.0\" stroke=\"black\" d=\"M 420 20 376 68\"/>\n",
       "<path stroke-width=\"1.0\" stroke=\"black\" d=\"M 376 68 420 20\"/>\n",
       "<path stroke-width=\"1.0\" stroke=\"black\" d=\"M 376 68 318 124\"/>\n",
       "<path stroke-width=\"1.0\" stroke=\"black\" d=\"M 318 124 376 68\"/>\n",
       "<path stroke-width=\"1.0\" stroke=\"black\" d=\"M 318 124 250 180\"/>\n",
       "<path stroke-width=\"1.0\" stroke=\"black\" d=\"M 250 180 318 124\"/>\n",
       "<path stroke-width=\"1.0\" stroke=\"black\" d=\"M 250 180 172 234\"/>\n",
       "<path stroke-width=\"1.0\" stroke=\"black\" d=\"M 172 234 250 180\"/>\n",
       "<path stroke-width=\"1.0\" stroke=\"black\" d=\"M 172 234 93 281\"/>\n",
       "<path stroke-width=\"1.0\" stroke=\"black\" d=\"M 93 281 172 234\"/>\n",
       "<path stroke-width=\"1.0\" stroke=\"black\" d=\"M 93 281 20 320\"/>\n",
       "<path stroke-width=\"1.0\" stroke=\"black\" d=\"M 20 320 93 281\"/>\n",
       "<circle cx=\"420\" cy=\"20\" r=\"7.0\" style=\"fill:gray;stroke:black;stroke-width:1.0\"/>\n",
       "<circle cx=\"376\" cy=\"68\" r=\"7.0\" style=\"fill:gray;stroke:black;stroke-width:1.0\"/>\n",
       "<circle cx=\"318\" cy=\"124\" r=\"7.0\" style=\"fill:gray;stroke:black;stroke-width:1.0\"/>\n",
       "<circle cx=\"250\" cy=\"180\" r=\"7.0\" style=\"fill:gray;stroke:black;stroke-width:1.0\"/>\n",
       "<circle cx=\"172\" cy=\"234\" r=\"7.0\" style=\"fill:gray;stroke:black;stroke-width:1.0\"/>\n",
       "<circle cx=\"93\" cy=\"281\" r=\"7.0\" style=\"fill:gray;stroke:black;stroke-width:1.0\"/>\n",
       "<circle cx=\"20\" cy=\"320\" r=\"7.0\" style=\"fill:gray;stroke:black;stroke-width:1.0\"/>\n",
       "</svg>"
      ],
      "text/plain": [
       "<IPython.core.display.SVG object>"
      ]
     },
     "execution_count": 32,
     "metadata": {},
     "output_type": "execute_result"
    }
   ],
   "source": [
    "mat = dataset[13]\n",
    "adjacency_matrix = sparse.csr_matrix(mat)\n",
    "image = svg_graph(adjacency_matrix)\n",
    "SVG(image)"
   ]
  },
  {
   "cell_type": "code",
   "execution_count": 21,
   "id": "stylish-office",
   "metadata": {},
   "outputs": [],
   "source": [
    "#adjacency1 = make_random_adjacency_undirected(nbVertex = 4)\n",
    "#adjacency2 = make_random_adjacency_undirected(nbVertex = 4)\n",
    "\n",
    "#adjacency1_matrix = sparse.csr_matrix(adjacency1)\n",
    "#adjacency2_matrix = sparse.csr_matrix(adjacency2)\n",
    "\n",
    "#image1 = svg_graph(adjacency1_matrix)\n",
    "#SVG(image1)\n",
    "#image2 = svg_graph(adjacency2_matrix)\n",
    "#SVG(image2)"
   ]
  },
  {
   "cell_type": "code",
   "execution_count": 22,
   "id": "provincial-joseph",
   "metadata": {},
   "outputs": [
    {
     "name": "stdout",
     "output_type": "stream",
     "text": [
      "diff : 8.278237474835889 positif : True\n",
      "diff : -0.35021843538204617 positif : False\n",
      "diff : 4.744328118005619 positif : True\n",
      "diff : 3.580371444437827 positif : True\n",
      "diff : 12.87926337154074 positif : True\n",
      "diff : 7.88033742803064 positif : True\n",
      "diff : 1.100327938359513 positif : True\n",
      "diff : 1.5141067428303903 positif : True\n",
      "diff : 0.6171868831675558 positif : True\n",
      "diff : 0.19799584912866797 positif : True\n"
     ]
    }
   ],
   "source": [
    "# comparer distance d'adjacence et celle de laplacien \n",
    "for i in range(10):\n",
    "    adjacency1 = make_random_adjacency_undirected(nbVertex = 5)\n",
    "    adjacency2 = make_random_adjacency_undirected(nbVertex = 5)\n",
    "    #distance en utilisant matrice d'adjacence\n",
    "    #print(\"distance(matrice adjacence): \", distance_2graph(adjacency1, adjacency2))\n",
    "    dis_adjacence = distance_2graph(adjacency1, adjacency2)\n",
    "    #distance en utilisant matrice laplacienne\n",
    "    dis_laplacien = distance_2graph(matrice_laplacien(adjacency1), matrice_laplacien(adjacency2))\n",
    "    #print(\"distance(matrice laplacien): \", distance_2graph(laplacien1, laplacien2))\n",
    "    difference = dis_laplacien - dis_adjacence\n",
    "    print(\"diff :\", difference, \"positif :\", difference > -1e-10)"
   ]
  },
  {
   "cell_type": "code",
   "execution_count": 23,
   "id": "practical-green",
   "metadata": {},
   "outputs": [
    {
     "name": "stdout",
     "output_type": "stream",
     "text": [
      "-0.35021843538205116\n"
     ]
    }
   ],
   "source": [
    "#on trouve ce-dessus, principalement distance_laplacien >= distance_adjacence, sauf quelques exemples\n",
    "#on trouve un exemple special ci-dessous\n",
    "special1 = np.array([[0., 1., 1., 0., 0.],\n",
    "                     [1., 0., 0., 0., 1.],\n",
    "                     [1., 0., 0., 1., 1.],\n",
    "                     [0., 0., 1., 0., 0.],\n",
    "                     [0., 1., 1., 0., 0.]])\n",
    "special2 = np.array([[0., 1., 1., 0., 0.],\n",
    "                     [1., 0., 1., 0., 0.],\n",
    "                     [1., 1., 0., 0., 1.],\n",
    "                     [0., 0., 0., 0., 1.],\n",
    "                     [0., 0., 1., 1., 0.]])\n",
    "special_adjacence = distance_2graph(special1, special2)\n",
    "special_laplacien = distance_2graph(matrice_laplacien(special1), matrice_laplacien(special2))\n",
    "special_difference = special_laplacien - special_adjacence\n",
    "print(special_difference)"
   ]
  },
  {
   "cell_type": "code",
   "execution_count": 24,
   "id": "photographic-mambo",
   "metadata": {},
   "outputs": [
    {
     "name": "stdout",
     "output_type": "stream",
     "text": [
      "JSSA : 1.414646414705633 JSSL : 4.357265445311824 JSS : 2.8859559300087283\n",
      "JSSA : 2.8236712135978412 JSSL : 10.979481080243792 JSS : 6.901576146920816\n",
      "JSSA : 1.8957324923702858 JSSL : 4.357265445311824 JSS : 3.1264989688410547\n",
      "JSSA : 2.2444144683783303 JSSL : 10.000000000000009 JSS : 6.12220723418917\n",
      "JSSA : 0.1532457024891129 JSSL : 1.1056589431444694 JSS : 0.6294523228167912\n",
      "JSSA : 3.1207366284592766 JSSL : 16.00000000000002 JSS : 9.560368314229649\n",
      "JSSA : 0.24025874325893015 JSSL : 0.5835921350012598 JSS : 0.411925439130095\n",
      "JSSA : 5.128619265943245 JSSL : 26.000000000000032 JSS : 15.56430963297164\n",
      "JSSA : 0.7768940008740026 JSSL : 4.35726544531182 JSS : 2.5670797230929114\n",
      "JSSA : 5.62352912087123e-30 JSSL : 7.947176958793934e-30 JSS : 6.785353039832582e-30\n"
     ]
    }
   ],
   "source": [
    "#tests pour la distance combinee\n",
    "for i in range(10):\n",
    "    adjacency1 = make_random_adjacency_undirected(nbVertex = 5)\n",
    "    adjacency2 = make_random_adjacency_undirected(nbVertex = 5)\n",
    "    dis_adjacence = distance_2graph(adjacency1, adjacency2)\n",
    "    dis_laplacien = distance_2graph(matrice_laplacien(adjacency1), matrice_laplacien(adjacency2))\n",
    "    dis_combine = distance_2graph_combine(adjacency1, adjacency2, alpha=0.5)\n",
    "    print(\"JSSA :\", dis_adjacence, \"JSSL :\", dis_laplacien, \"JSS :\", dis_combine) "
   ]
  },
  {
   "cell_type": "markdown",
   "id": "curious-flour",
   "metadata": {},
   "source": [
    "### test sur les graphes ayant des topologies similaires puis de plus en plus différentes, pour vérifier que la distance reflète bien ces différences"
   ]
  },
  {
   "cell_type": "code",
   "execution_count": 25,
   "id": "nominated-shannon",
   "metadata": {},
   "outputs": [
    {
     "data": {
      "image/svg+xml": [
       "<svg xmlns=\"http://www.w3.org/2000/svg\" width=\"440\" height=\"340\">\n",
       "<path stroke-width=\"1.0\" stroke=\"black\" d=\"M 308 20 420 165\"/>\n",
       "<path stroke-width=\"1.0\" stroke=\"black\" d=\"M 308 20 179 172\"/>\n",
       "<path stroke-width=\"1.0\" stroke=\"black\" d=\"M 420 165 308 20\"/>\n",
       "<path stroke-width=\"1.0\" stroke=\"black\" d=\"M 420 165 311 320\"/>\n",
       "<path stroke-width=\"1.0\" stroke=\"black\" d=\"M 179 172 308 20\"/>\n",
       "<path stroke-width=\"1.0\" stroke=\"black\" d=\"M 179 172 20 178\"/>\n",
       "<path stroke-width=\"1.0\" stroke=\"black\" d=\"M 179 172 311 320\"/>\n",
       "<path stroke-width=\"1.0\" stroke=\"black\" d=\"M 20 178 179 172\"/>\n",
       "<path stroke-width=\"1.0\" stroke=\"black\" d=\"M 311 320 420 165\"/>\n",
       "<path stroke-width=\"1.0\" stroke=\"black\" d=\"M 311 320 179 172\"/>\n",
       "<circle cx=\"308\" cy=\"20\" r=\"7.0\" style=\"fill:gray;stroke:black;stroke-width:1.0\"/>\n",
       "<circle cx=\"420\" cy=\"165\" r=\"7.0\" style=\"fill:gray;stroke:black;stroke-width:1.0\"/>\n",
       "<circle cx=\"179\" cy=\"172\" r=\"7.0\" style=\"fill:gray;stroke:black;stroke-width:1.0\"/>\n",
       "<circle cx=\"20\" cy=\"178\" r=\"7.0\" style=\"fill:gray;stroke:black;stroke-width:1.0\"/>\n",
       "<circle cx=\"311\" cy=\"320\" r=\"7.0\" style=\"fill:gray;stroke:black;stroke-width:1.0\"/>\n",
       "</svg>"
      ],
      "text/plain": [
       "<IPython.core.display.SVG object>"
      ]
     },
     "execution_count": 25,
     "metadata": {},
     "output_type": "execute_result"
    }
   ],
   "source": [
    "adjacency1 = np.array([[0., 1., 1., 0., 0.],\n",
    "                       [1., 0., 0., 0., 1.],\n",
    "                       [1., 0., 0., 1., 1.],\n",
    "                       [0., 0., 1., 0., 0.],\n",
    "                       [0., 1., 1., 0., 0.]])\n",
    "adjacency1_matrix = sparse.csr_matrix(adjacency1)\n",
    "\n",
    "image1 = svg_graph(adjacency1_matrix)\n",
    "SVG(image1)"
   ]
  },
  {
   "cell_type": "code",
   "execution_count": 26,
   "id": "undefined-particle",
   "metadata": {},
   "outputs": [
    {
     "data": {
      "image/svg+xml": [
       "<svg xmlns=\"http://www.w3.org/2000/svg\" width=\"440\" height=\"340\">\n",
       "<path stroke-width=\"1.0\" stroke=\"black\" d=\"M 20 104 84 20\"/>\n",
       "<path stroke-width=\"1.0\" stroke=\"black\" d=\"M 20 104 157 135\"/>\n",
       "<path stroke-width=\"1.0\" stroke=\"black\" d=\"M 84 20 20 104\"/>\n",
       "<path stroke-width=\"1.0\" stroke=\"black\" d=\"M 84 20 157 135\"/>\n",
       "<path stroke-width=\"1.0\" stroke=\"black\" d=\"M 157 135 20 104\"/>\n",
       "<path stroke-width=\"1.0\" stroke=\"black\" d=\"M 157 135 84 20\"/>\n",
       "<path stroke-width=\"1.0\" stroke=\"black\" d=\"M 157 135 299 236\"/>\n",
       "<path stroke-width=\"1.0\" stroke=\"black\" d=\"M 420 320 299 236\"/>\n",
       "<path stroke-width=\"1.0\" stroke=\"black\" d=\"M 299 236 157 135\"/>\n",
       "<path stroke-width=\"1.0\" stroke=\"black\" d=\"M 299 236 420 320\"/>\n",
       "<circle cx=\"20\" cy=\"104\" r=\"7.0\" style=\"fill:gray;stroke:black;stroke-width:1.0\"/>\n",
       "<circle cx=\"84\" cy=\"20\" r=\"7.0\" style=\"fill:gray;stroke:black;stroke-width:1.0\"/>\n",
       "<circle cx=\"157\" cy=\"135\" r=\"7.0\" style=\"fill:gray;stroke:black;stroke-width:1.0\"/>\n",
       "<circle cx=\"420\" cy=\"320\" r=\"7.0\" style=\"fill:gray;stroke:black;stroke-width:1.0\"/>\n",
       "<circle cx=\"299\" cy=\"236\" r=\"7.0\" style=\"fill:gray;stroke:black;stroke-width:1.0\"/>\n",
       "</svg>"
      ],
      "text/plain": [
       "<IPython.core.display.SVG object>"
      ]
     },
     "execution_count": 26,
     "metadata": {},
     "output_type": "execute_result"
    }
   ],
   "source": [
    "adjacency2 = np.array([[0., 1., 1., 0., 0.],\n",
    "                       [1., 0., 1., 0., 0.],\n",
    "                       [1., 1., 0., 0., 1.],\n",
    "                       [0., 0., 0., 0., 1.],\n",
    "                       [0., 0., 1., 1., 0.]])\n",
    "adjacency2_matrix = sparse.csr_matrix(adjacency2)\n",
    "\n",
    "image2 = svg_graph(adjacency2_matrix)\n",
    "SVG(image2)"
   ]
  },
  {
   "cell_type": "code",
   "execution_count": 27,
   "id": "electric-calcium",
   "metadata": {},
   "outputs": [
    {
     "data": {
      "image/svg+xml": [
       "<svg xmlns=\"http://www.w3.org/2000/svg\" width=\"440\" height=\"340\">\n",
       "<path stroke-width=\"1.0\" stroke=\"black\" d=\"M 420 320 328 249\"/>\n",
       "<path stroke-width=\"1.0\" stroke=\"black\" d=\"M 328 249 420 320\"/>\n",
       "<path stroke-width=\"1.0\" stroke=\"black\" d=\"M 328 249 218 172\"/>\n",
       "<path stroke-width=\"1.0\" stroke=\"black\" d=\"M 218 172 328 249\"/>\n",
       "<path stroke-width=\"1.0\" stroke=\"black\" d=\"M 218 172 115 89\"/>\n",
       "<path stroke-width=\"1.0\" stroke=\"black\" d=\"M 115 89 218 172\"/>\n",
       "<path stroke-width=\"1.0\" stroke=\"black\" d=\"M 115 89 20 20\"/>\n",
       "<path stroke-width=\"1.0\" stroke=\"black\" d=\"M 20 20 115 89\"/>\n",
       "<circle cx=\"420\" cy=\"320\" r=\"7.0\" style=\"fill:gray;stroke:black;stroke-width:1.0\"/>\n",
       "<circle cx=\"328\" cy=\"249\" r=\"7.0\" style=\"fill:gray;stroke:black;stroke-width:1.0\"/>\n",
       "<circle cx=\"218\" cy=\"172\" r=\"7.0\" style=\"fill:gray;stroke:black;stroke-width:1.0\"/>\n",
       "<circle cx=\"115\" cy=\"89\" r=\"7.0\" style=\"fill:gray;stroke:black;stroke-width:1.0\"/>\n",
       "<circle cx=\"20\" cy=\"20\" r=\"7.0\" style=\"fill:gray;stroke:black;stroke-width:1.0\"/>\n",
       "</svg>"
      ],
      "text/plain": [
       "<IPython.core.display.SVG object>"
      ]
     },
     "execution_count": 27,
     "metadata": {},
     "output_type": "execute_result"
    }
   ],
   "source": [
    "adjacency3 = np.array([[0., 1., 0., 0., 0.],\n",
    "                       [1., 0., 1., 0., 0.],\n",
    "                       [0., 1., 0., 1., 0.],\n",
    "                       [0., 0., 1., 0., 1.],\n",
    "                       [0., 0., 0., 1., 0.]])\n",
    "adjacency3_matrix = sparse.csr_matrix(adjacency3)\n",
    "\n",
    "image3 = svg_graph(adjacency3_matrix)\n",
    "SVG(image3)"
   ]
  },
  {
   "cell_type": "code",
   "execution_count": 28,
   "id": "abstract-pursuit",
   "metadata": {},
   "outputs": [
    {
     "name": "stdout",
     "output_type": "stream",
     "text": [
      " distance entre no.1 et no.2 : 0.5797724358139108 \n",
      " distance entre no.2 et no.3 : 0.9296187178771995 \n",
      " distance entre no.1 et no.3 : 0.943481707174449\n"
     ]
    }
   ],
   "source": [
    "d_1_2 = distance_2graph_combine(adjacency1, adjacency2, alpha = 0.55)\n",
    "d_2_3 = distance_2graph_combine(adjacency2, adjacency3, alpha = 0.5)\n",
    "d_1_3 = distance_2graph_combine(adjacency1, adjacency3, alpha = 0.5)\n",
    "print(\" distance entre no.1 et no.2 :\", d_1_2, \"\\n distance entre no.2 et no.3 :\", d_2_3, \"\\n distance entre no.1 et no.3 :\", d_1_3)\n",
    "# les resultats montrent pas mal"
   ]
  },
  {
   "cell_type": "markdown",
   "id": "regional-consistency",
   "metadata": {},
   "source": [
    "## test pour les graphes avec différents noeuds"
   ]
  },
  {
   "cell_type": "code",
   "execution_count": 29,
   "id": "capable-charger",
   "metadata": {},
   "outputs": [
    {
     "data": {
      "image/svg+xml": [
       "<svg xmlns=\"http://www.w3.org/2000/svg\" width=\"440\" height=\"340\">\n",
       "<path stroke-width=\"1.0\" stroke=\"black\" d=\"M 420 20 325 89\"/>\n",
       "<path stroke-width=\"1.0\" stroke=\"black\" d=\"M 325 89 420 20\"/>\n",
       "<path stroke-width=\"1.0\" stroke=\"black\" d=\"M 325 89 218 167\"/>\n",
       "<path stroke-width=\"1.0\" stroke=\"black\" d=\"M 218 167 325 89\"/>\n",
       "<path stroke-width=\"1.0\" stroke=\"black\" d=\"M 218 167 110 249\"/>\n",
       "<path stroke-width=\"1.0\" stroke=\"black\" d=\"M 110 249 218 167\"/>\n",
       "<path stroke-width=\"1.0\" stroke=\"black\" d=\"M 110 249 20 320\"/>\n",
       "<path stroke-width=\"1.0\" stroke=\"black\" d=\"M 20 320 110 249\"/>\n",
       "<circle cx=\"420\" cy=\"20\" r=\"7.0\" style=\"fill:gray;stroke:black;stroke-width:1.0\"/>\n",
       "<circle cx=\"325\" cy=\"89\" r=\"7.0\" style=\"fill:gray;stroke:black;stroke-width:1.0\"/>\n",
       "<circle cx=\"218\" cy=\"167\" r=\"7.0\" style=\"fill:gray;stroke:black;stroke-width:1.0\"/>\n",
       "<circle cx=\"110\" cy=\"249\" r=\"7.0\" style=\"fill:gray;stroke:black;stroke-width:1.0\"/>\n",
       "<circle cx=\"20\" cy=\"320\" r=\"7.0\" style=\"fill:gray;stroke:black;stroke-width:1.0\"/>\n",
       "</svg>"
      ],
      "text/plain": [
       "<IPython.core.display.SVG object>"
      ]
     },
     "execution_count": 29,
     "metadata": {},
     "output_type": "execute_result"
    }
   ],
   "source": [
    "# test pour les graphes avec différents noeuds\n",
    "adjacency1 = np.array([[0., 1., 0., 0., 0.],\n",
    "                       [1., 0., 1., 0., 0.],\n",
    "                       [0., 1., 0., 1., 0.],\n",
    "                       [0., 0., 1., 0., 1.],\n",
    "                       [0., 0., 0., 1., 0.]])\n",
    "adjacency1_matrix = sparse.csr_matrix(adjacency1)\n",
    "\n",
    "image1 = svg_graph(adjacency1_matrix)\n",
    "SVG(image1)"
   ]
  },
  {
   "cell_type": "code",
   "execution_count": 30,
   "id": "legislative-celtic",
   "metadata": {},
   "outputs": [
    {
     "data": {
      "image/svg+xml": [
       "<svg xmlns=\"http://www.w3.org/2000/svg\" width=\"440\" height=\"340\">\n",
       "<path stroke-width=\"1.0\" stroke=\"black\" d=\"M 420 20 292 116\"/>\n",
       "<path stroke-width=\"1.0\" stroke=\"black\" d=\"M 292 116 420 20\"/>\n",
       "<path stroke-width=\"1.0\" stroke=\"black\" d=\"M 292 116 147 223\"/>\n",
       "<path stroke-width=\"1.0\" stroke=\"black\" d=\"M 147 223 292 116\"/>\n",
       "<path stroke-width=\"1.0\" stroke=\"black\" d=\"M 147 223 20 320\"/>\n",
       "<path stroke-width=\"1.0\" stroke=\"black\" d=\"M 20 320 147 223\"/>\n",
       "<circle cx=\"420\" cy=\"20\" r=\"7.0\" style=\"fill:gray;stroke:black;stroke-width:1.0\"/>\n",
       "<circle cx=\"292\" cy=\"116\" r=\"7.0\" style=\"fill:gray;stroke:black;stroke-width:1.0\"/>\n",
       "<circle cx=\"147\" cy=\"223\" r=\"7.0\" style=\"fill:gray;stroke:black;stroke-width:1.0\"/>\n",
       "<circle cx=\"20\" cy=\"320\" r=\"7.0\" style=\"fill:gray;stroke:black;stroke-width:1.0\"/>\n",
       "</svg>"
      ],
      "text/plain": [
       "<IPython.core.display.SVG object>"
      ]
     },
     "execution_count": 30,
     "metadata": {},
     "output_type": "execute_result"
    }
   ],
   "source": [
    "adjacency2 = np.array([[0., 1., 0., 0.],\n",
    "                       [1., 0., 1., 0.],\n",
    "                       [0., 1., 0., 1.],\n",
    "                       [0., 0., 1., 0.]])\n",
    "adjacency2_matrix = sparse.csr_matrix(adjacency2)\n",
    "\n",
    "image2 = svg_graph(adjacency2_matrix)\n",
    "SVG(image2)"
   ]
  },
  {
   "cell_type": "code",
   "execution_count": 31,
   "id": "young-hanging",
   "metadata": {},
   "outputs": [
    {
     "data": {
      "image/svg+xml": [
       "<svg xmlns=\"http://www.w3.org/2000/svg\" width=\"440\" height=\"340\">\n",
       "<path stroke-width=\"1.0\" stroke=\"black\" d=\"M 240 320 228 216\"/>\n",
       "<path stroke-width=\"1.0\" stroke=\"black\" d=\"M 228 216 240 320\"/>\n",
       "<path stroke-width=\"1.0\" stroke=\"black\" d=\"M 228 216 20 224\"/>\n",
       "<path stroke-width=\"1.0\" stroke=\"black\" d=\"M 228 216 393 187\"/>\n",
       "<path stroke-width=\"1.0\" stroke=\"black\" d=\"M 228 216 341 114\"/>\n",
       "<path stroke-width=\"1.0\" stroke=\"black\" d=\"M 20 224 228 216\"/>\n",
       "<path stroke-width=\"1.0\" stroke=\"black\" d=\"M 393 187 228 216\"/>\n",
       "<path stroke-width=\"1.0\" stroke=\"black\" d=\"M 393 187 341 114\"/>\n",
       "<path stroke-width=\"1.0\" stroke=\"black\" d=\"M 341 114 228 216\"/>\n",
       "<path stroke-width=\"1.0\" stroke=\"black\" d=\"M 341 114 393 187\"/>\n",
       "<path stroke-width=\"1.0\" stroke=\"black\" d=\"M 341 114 420 20\"/>\n",
       "<path stroke-width=\"1.0\" stroke=\"black\" d=\"M 420 20 341 114\"/>\n",
       "<circle cx=\"240\" cy=\"320\" r=\"7.0\" style=\"fill:gray;stroke:black;stroke-width:1.0\"/>\n",
       "<circle cx=\"228\" cy=\"216\" r=\"7.0\" style=\"fill:gray;stroke:black;stroke-width:1.0\"/>\n",
       "<circle cx=\"20\" cy=\"224\" r=\"7.0\" style=\"fill:gray;stroke:black;stroke-width:1.0\"/>\n",
       "<circle cx=\"393\" cy=\"187\" r=\"7.0\" style=\"fill:gray;stroke:black;stroke-width:1.0\"/>\n",
       "<circle cx=\"341\" cy=\"114\" r=\"7.0\" style=\"fill:gray;stroke:black;stroke-width:1.0\"/>\n",
       "<circle cx=\"420\" cy=\"20\" r=\"7.0\" style=\"fill:gray;stroke:black;stroke-width:1.0\"/>\n",
       "</svg>"
      ],
      "text/plain": [
       "<IPython.core.display.SVG object>"
      ]
     },
     "execution_count": 31,
     "metadata": {},
     "output_type": "execute_result"
    }
   ],
   "source": [
    "adjacency3 = np.array([[0., 1., 0., 0., 0., 0.],\n",
    "                       [1., 0., 1., 1., 1., 0.],\n",
    "                       [0., 1., 0., 0., 0., 0.],\n",
    "                       [0., 1., 0., 0., 1., 0.],\n",
    "                       [0., 1., 0., 1., 0., 1.],\n",
    "                       [0., 0., 0., 0., 1., 0.]])\n",
    "adjacency3_matrix = sparse.csr_matrix(adjacency3)\n",
    "\n",
    "image3 = svg_graph(adjacency3_matrix)\n",
    "SVG(image3)"
   ]
  },
  {
   "cell_type": "code",
   "execution_count": 32,
   "id": "sound-local",
   "metadata": {},
   "outputs": [
    {
     "name": "stdout",
     "output_type": "stream",
     "text": [
      " distance entre no.1 et no.2 : 1.0630693079438962 \n",
      " distance entre no.2 et no.3 : 5.783771300451879 \n",
      " distance entre no.1 et no.3 : 3.028004723710413\n"
     ]
    }
   ],
   "source": [
    "d_1_2 = distance_2graphe_diff_vertex_simple(adjacency1, adjacency2)\n",
    "d_2_3 = distance_2graphe_diff_vertex_simple(adjacency2, adjacency3)\n",
    "d_1_3 = distance_2graphe_diff_vertex_simple(adjacency1, adjacency3)\n",
    "print(\" distance entre no.1 et no.2 :\", d_1_2, \"\\n distance entre no.2 et no.3 :\", d_2_3, \"\\n distance entre no.1 et no.3 :\", d_1_3)\n",
    "# on voit cette methode est simple, mais parfois ca marche"
   ]
  },
  {
   "cell_type": "code",
   "execution_count": 33,
   "id": "modern-correspondence",
   "metadata": {},
   "outputs": [],
   "source": [
    "def interpolateEigenvalues(array1, array2):\n",
    "    \"\"\"\n",
    "    Fonction permettant d'interpoler l'ensemble des valeurs propre le plus petit pour avoir autant de valeur que dans le plus grand ensemble\n",
    "    :param array1: tableau de valeurs propre\n",
    "    :type array1: Numpy 1D array\n",
    "    :param array2: tableau de valeurs propre\n",
    "    :type array2: Numpy array\n",
    "    :return: array1, array2\n",
    "    :rtype: Numpy 1d Array, Numpy 1d Array\n",
    "    \"\"\"\n",
    "    minArray = array1\n",
    "    maxArray = array2\n",
    "    if array1.shape[0]>array2.shape[0]:\n",
    "        minArray = array2\n",
    "        maxArray = array1\n",
    "    elif array1.shape[0]==array2.shape[0]:\n",
    "        return array1, array2\n",
    "\n",
    "    common_x = np.linspace(0, 1, len(maxArray))\n",
    "    x = np.linspace(0, 1, len(minArray))\n",
    "    f = interp1d(x, minArray)\n",
    "    min1dArrayInterpolated = f(common_x)\n",
    "\n",
    "    if array1.shape[0]>array2.shape[0]:\n",
    "        return maxArray, min1dArrayInterpolated\n",
    "    return min1dArrayInterpolated, maxArray"
   ]
  },
  {
   "cell_type": "code",
   "execution_count": 34,
   "id": "separated-equity",
   "metadata": {},
   "outputs": [],
   "source": [
    "def distance_2graphe_diff_vertex_v2(adjacency_G1, adjacency_G2, alpha = 0.5):\n",
    "    \"\"\"\n",
    "    Version 2 de la méthode de calcul de distance avec 2 graphes n'ayant pas le même nombre de noeuds.\n",
    "    Cette version 2 consiste à interpoller l'ensemble des valeurs propres le plus petit pour avoir deux ensembles de mêmes taille à comparer\n",
    "    :para 2 matrices d'adjancence, alpha a weighting factor\n",
    "    :type array, alpha : double\n",
    "    :return distance entre \n",
    "    :rtype double\n",
    "    cette fonction est une méthode simple pour calculer la distance entre 2 graphes avec noeuds differents\n",
    "    comme le papier de Bay-Ahmed, on compte seulment les K premiers valeurs propres. k = min(N1, N2)\n",
    "    \"\"\"\n",
    "    VP1 = np.linalg.eig(adjacency_G1)[0]#les valeurs propres de premier graph\n",
    "    VP2 = np.linalg.eig(adjacency_G2)[0]#les valeurs propres de deuxieme graph\n",
    "    VP1, VP2 = interpolateEigenvalues(VP1, VP2)\n",
    "    VP1 = np.array(sorted(VP1,reverse=True))# ordonner les valeurs propres\n",
    "    VP2 = np.array(sorted(VP2,reverse=True)) \n",
    "\n",
    "    JSSA = np.linalg.norm(VP1 - VP2)**2#sum des carrés de différence de VP\n",
    "\n",
    "    VP3 = np.linalg.eig(matrice_laplacien(adjacency_G1))[0]#les valeurs propres de premier graph\n",
    "    VP4 = np.linalg.eig(matrice_laplacien(adjacency_G2))[0]#les valeurs propres de deuxieme graph\n",
    "    VP3, VP4 = interpolateEigenvalues(VP3, VP4)\n",
    "    VP3 = np.array(sorted(VP3,reverse=True))# ordonner les valeurs propres\n",
    "    VP4 = np.array(sorted(VP4,reverse=True)) \n",
    "\n",
    "    JSSL = np.linalg.norm(VP3 - VP4)**2#sum des carrés de différence de VP\n",
    "\n",
    "    JSS = alpha * JSSA + (1 - alpha) * JSSL\n",
    "    return JSS"
   ]
  },
  {
   "cell_type": "code",
   "execution_count": 35,
   "id": "numerous-thumb",
   "metadata": {},
   "outputs": [
    {
     "name": "stdout",
     "output_type": "stream",
     "text": [
      "Nombre de noeuds G1  5 ; G2  4 ; G3  6\n",
      "Méthode avec interpollation de l'ensemble des valeurs propre le plus petit\n",
      "Distance entre no.1 et no.2 : 0.43960065180372127 \n",
      " distance entre no.2 et no.3 : 3.451132326030513 \n",
      " distance entre no.1 et no.3 : 2.4064658643902472\n"
     ]
    }
   ],
   "source": [
    "print(\"Nombre de noeuds G1 \", adjacency1.shape[0], \"; G2 \", adjacency2.shape[0], \"; G3 \", adjacency3.shape[0])\n",
    "d_1_2 = distance_2graphe_diff_vertex_v2(adjacency1, adjacency2)\n",
    "d_2_3 = distance_2graphe_diff_vertex_v2(adjacency2, adjacency3)\n",
    "d_1_3 = distance_2graphe_diff_vertex_v2(adjacency1, adjacency3)\n",
    "print(\"Méthode avec interpollation de l'ensemble des valeurs propre le plus petit\")\n",
    "print(\"Distance entre no.1 et no.2 :\", d_1_2, \"\\n distance entre no.2 et no.3 :\", d_2_3, \"\\n distance entre no.1 et no.3 :\", d_1_3)\n",
    "# on voit cette methode est simple, mais parfois ca marche"
   ]
  },
  {
   "cell_type": "code",
   "execution_count": 36,
   "id": "stone-lawsuit",
   "metadata": {},
   "outputs": [],
   "source": [
    "import re\n",
    "import ast"
   ]
  },
  {
   "cell_type": "code",
   "execution_count": 37,
   "id": "fatty-glucose",
   "metadata": {},
   "outputs": [],
   "source": [
    "\n",
    "def read_data_file(number_of_graphs=2):\n",
    "    reg = re.compile(r'((\\{\"(?P<name>\\w+)\",\\s((\\{.+\\})|(\\d+))\\})|(\"(?P<name1>\\w+)\")),\\s(?P<values>\\{\\{.*\\}\\})')\n",
    "    d = []\n",
    "    with open(\"./data_graphs.txt\") as infile:\n",
    "        i = number_of_graphs\n",
    "        for line in infile:\n",
    "            if i==0:\n",
    "                break\n",
    "            match = reg.search(line[1:-2])\n",
    "            if match:\n",
    "                name = match.group('name') if match.group('name1') is None else match.group('name1')\n",
    "                values = match.group('values').replace(\"{\",\"[\").replace(\"}\", \"]\")\n",
    "                d.append((name, ast.literal_eval(values)))\n",
    "\n",
    "            i -= 1\n",
    "    return d"
   ]
  },
  {
   "cell_type": "code",
   "execution_count": 38,
   "id": "logical-portfolio",
   "metadata": {},
   "outputs": [
    {
     "ename": "FileNotFoundError",
     "evalue": "[Errno 2] No such file or directory: './data_graphs.txt'",
     "output_type": "error",
     "traceback": [
      "\u001b[1;31m---------------------------------------------------------------------------\u001b[0m",
      "\u001b[1;31mFileNotFoundError\u001b[0m                         Traceback (most recent call last)",
      "\u001b[1;32m<ipython-input-38-e3c6e61e879c>\u001b[0m in \u001b[0;36m<module>\u001b[1;34m\u001b[0m\n\u001b[1;32m----> 1\u001b[1;33m \u001b[0mgraph_dataset\u001b[0m \u001b[1;33m=\u001b[0m \u001b[0mread_data_file\u001b[0m\u001b[1;33m(\u001b[0m\u001b[1;36m2\u001b[0m\u001b[1;33m)\u001b[0m\u001b[1;33m\u001b[0m\u001b[1;33m\u001b[0m\u001b[0m\n\u001b[0m\u001b[0;32m      2\u001b[0m \u001b[1;33m\u001b[0m\u001b[0m\n\u001b[0;32m      3\u001b[0m \u001b[0madjacency\u001b[0m \u001b[1;33m=\u001b[0m \u001b[0medgelist2adjacency\u001b[0m\u001b[1;33m(\u001b[0m\u001b[0mgraph_dataset\u001b[0m\u001b[1;33m[\u001b[0m\u001b[1;36m0\u001b[0m\u001b[1;33m]\u001b[0m\u001b[1;33m[\u001b[0m\u001b[1;36m1\u001b[0m\u001b[1;33m]\u001b[0m\u001b[1;33m)\u001b[0m\u001b[1;33m\u001b[0m\u001b[1;33m\u001b[0m\u001b[0m\n\u001b[0;32m      4\u001b[0m \u001b[1;33m\u001b[0m\u001b[0m\n\u001b[0;32m      5\u001b[0m \u001b[0mimage\u001b[0m \u001b[1;33m=\u001b[0m \u001b[0msvg_digraph\u001b[0m\u001b[1;33m(\u001b[0m\u001b[0madjacency\u001b[0m\u001b[1;33m)\u001b[0m\u001b[1;33m\u001b[0m\u001b[1;33m\u001b[0m\u001b[0m\n",
      "\u001b[1;32m<ipython-input-37-7c6bfe012fd4>\u001b[0m in \u001b[0;36mread_data_file\u001b[1;34m(number_of_graphs)\u001b[0m\n\u001b[0;32m      2\u001b[0m     \u001b[0mreg\u001b[0m \u001b[1;33m=\u001b[0m \u001b[0mre\u001b[0m\u001b[1;33m.\u001b[0m\u001b[0mcompile\u001b[0m\u001b[1;33m(\u001b[0m\u001b[1;34mr'((\\{\"(?P<name>\\w+)\",\\s((\\{.+\\})|(\\d+))\\})|(\"(?P<name1>\\w+)\")),\\s(?P<values>\\{\\{.*\\}\\})'\u001b[0m\u001b[1;33m)\u001b[0m\u001b[1;33m\u001b[0m\u001b[1;33m\u001b[0m\u001b[0m\n\u001b[0;32m      3\u001b[0m     \u001b[0md\u001b[0m \u001b[1;33m=\u001b[0m \u001b[1;33m[\u001b[0m\u001b[1;33m]\u001b[0m\u001b[1;33m\u001b[0m\u001b[1;33m\u001b[0m\u001b[0m\n\u001b[1;32m----> 4\u001b[1;33m     \u001b[1;32mwith\u001b[0m \u001b[0mopen\u001b[0m\u001b[1;33m(\u001b[0m\u001b[1;34m\"./data_graphs.txt\"\u001b[0m\u001b[1;33m)\u001b[0m \u001b[1;32mas\u001b[0m \u001b[0minfile\u001b[0m\u001b[1;33m:\u001b[0m\u001b[1;33m\u001b[0m\u001b[1;33m\u001b[0m\u001b[0m\n\u001b[0m\u001b[0;32m      5\u001b[0m         \u001b[0mi\u001b[0m \u001b[1;33m=\u001b[0m \u001b[0mnumber_of_graphs\u001b[0m\u001b[1;33m\u001b[0m\u001b[1;33m\u001b[0m\u001b[0m\n\u001b[0;32m      6\u001b[0m         \u001b[1;32mfor\u001b[0m \u001b[0mline\u001b[0m \u001b[1;32min\u001b[0m \u001b[0minfile\u001b[0m\u001b[1;33m:\u001b[0m\u001b[1;33m\u001b[0m\u001b[1;33m\u001b[0m\u001b[0m\n",
      "\u001b[1;31mFileNotFoundError\u001b[0m: [Errno 2] No such file or directory: './data_graphs.txt'"
     ]
    }
   ],
   "source": [
    "graph_dataset = read_data_file(2)\n",
    "\n",
    "adjacency = edgelist2adjacency(graph_dataset[0][1])\n",
    "\n",
    "image = svg_digraph(adjacency)\n",
    "SVG(image)"
   ]
  },
  {
   "cell_type": "code",
   "execution_count": 138,
   "id": "ancient-circuit",
   "metadata": {},
   "outputs": [
    {
     "data": {
      "image/svg+xml": [
       "<svg xmlns=\"http://www.w3.org/2000/svg\" width=\"440\" height=\"340\">\n",
       "<defs><marker id=\"arrow\" markerWidth=\"10\" markerHeight=\"10\" refX=\"9\" refY=\"3\" orient=\"auto\">\n",
       "<path d=\"M0,0 L0,6 L9,3 z\" fill=\"black\"/></marker></defs>\n",
       "<path stroke-width=\"1\" stroke=\"black\" d=\"M 374 69 351 53\" marker-end=\"url(#arrow)\"/>\n",
       "<path stroke-width=\"1\" stroke=\"black\" d=\"M 328 34 303 69\" marker-end=\"url(#arrow)\"/>\n",
       "<path stroke-width=\"1\" stroke=\"black\" d=\"M 328 34 336 63\" marker-end=\"url(#arrow)\"/>\n",
       "<path stroke-width=\"1\" stroke=\"black\" d=\"M 328 34 380 47\" marker-end=\"url(#arrow)\"/>\n",
       "<path stroke-width=\"1\" stroke=\"black\" d=\"M 328 34 387 21\" marker-end=\"url(#arrow)\"/>\n",
       "<path stroke-width=\"1\" stroke=\"black\" d=\"M 386 48 350 86\" marker-end=\"url(#arrow)\"/>\n",
       "<path stroke-width=\"1\" stroke=\"black\" d=\"M 386 48 334 35\" marker-end=\"url(#arrow)\"/>\n",
       "<path stroke-width=\"1\" stroke=\"black\" d=\"M 386 48 414 56\" marker-end=\"url(#arrow)\"/>\n",
       "<path stroke-width=\"1\" stroke=\"black\" d=\"M 386 48 359 25\" marker-end=\"url(#arrow)\"/>\n",
       "<path stroke-width=\"1\" stroke=\"black\" d=\"M 337 69 414 57\" marker-end=\"url(#arrow)\"/>\n",
       "<path stroke-width=\"1\" stroke=\"black\" d=\"M 420 57 380 68\" marker-end=\"url(#arrow)\"/>\n",
       "<path stroke-width=\"1\" stroke=\"black\" d=\"M 420 57 392 49\" marker-end=\"url(#arrow)\"/>\n",
       "<path stroke-width=\"1\" stroke=\"black\" d=\"M 420 57 397 25\" marker-end=\"url(#arrow)\"/>\n",
       "<path stroke-width=\"1\" stroke=\"black\" d=\"M 393 20 351 47\" marker-end=\"url(#arrow)\"/>\n",
       "<path stroke-width=\"1\" stroke=\"black\" d=\"M 393 20 334 33\" marker-end=\"url(#arrow)\"/>\n",
       "<path stroke-width=\"1\" stroke=\"black\" d=\"M 393 20 416 52\" marker-end=\"url(#arrow)\"/>\n",
       "<path stroke-width=\"1\" stroke=\"black\" d=\"M 393 20 360 21\" marker-end=\"url(#arrow)\"/>\n",
       "<path stroke-width=\"1\" stroke=\"black\" d=\"M 354 21 372 63\" marker-end=\"url(#arrow)\"/>\n",
       "<path stroke-width=\"1\" stroke=\"black\" d=\"M 354 21 296 41\" marker-end=\"url(#arrow)\"/>\n",
       "<path stroke-width=\"1\" stroke=\"black\" d=\"M 420 57 343 69\" marker-end=\"url(#arrow)\"/>\n",
       "<path stroke-width=\"1\" stroke=\"black\" d=\"M 337 69 329 40\" marker-end=\"url(#arrow)\"/>\n",
       "<path stroke-width=\"1\" stroke=\"black\" d=\"M 337 69 344 85\" marker-end=\"url(#arrow)\"/>\n",
       "<path stroke-width=\"1\" stroke=\"black\" d=\"M 337 69 296 46\" marker-end=\"url(#arrow)\"/>\n",
       "<path stroke-width=\"1\" stroke=\"black\" d=\"M 374 69 305 74\" marker-end=\"url(#arrow)\"/>\n",
       "<path stroke-width=\"1\" stroke=\"black\" d=\"M 374 69 414 58\" marker-end=\"url(#arrow)\"/>\n",
       "<path stroke-width=\"1\" stroke=\"black\" d=\"M 374 69 356 27\" marker-end=\"url(#arrow)\"/>\n",
       "<path stroke-width=\"1\" stroke=\"black\" d=\"M 346 50 369 66\" marker-end=\"url(#arrow)\"/>\n",
       "<path stroke-width=\"1\" stroke=\"black\" d=\"M 346 50 296 43\" marker-end=\"url(#arrow)\"/>\n",
       "<path stroke-width=\"1\" stroke=\"black\" d=\"M 346 50 346 85\" marker-end=\"url(#arrow)\"/>\n",
       "<path stroke-width=\"1\" stroke=\"black\" d=\"M 346 50 388 23\" marker-end=\"url(#arrow)\"/>\n",
       "<path stroke-width=\"1\" stroke=\"black\" d=\"M 290 43 340 50\" marker-end=\"url(#arrow)\"/>\n",
       "<path stroke-width=\"1\" stroke=\"black\" d=\"M 290 43 298 68\" marker-end=\"url(#arrow)\"/>\n",
       "<path stroke-width=\"1\" stroke=\"black\" d=\"M 290 43 331 66\" marker-end=\"url(#arrow)\"/>\n",
       "<path stroke-width=\"1\" stroke=\"black\" d=\"M 290 43 348 23\" marker-end=\"url(#arrow)\"/>\n",
       "<path stroke-width=\"1\" stroke=\"black\" d=\"M 299 74 368 69\" marker-end=\"url(#arrow)\"/>\n",
       "<path stroke-width=\"1\" stroke=\"black\" d=\"M 299 74 291 49\" marker-end=\"url(#arrow)\"/>\n",
       "<path stroke-width=\"1\" stroke=\"black\" d=\"M 299 74 340 89\" marker-end=\"url(#arrow)\"/>\n",
       "<path stroke-width=\"1\" stroke=\"black\" d=\"M 299 74 324 39\" marker-end=\"url(#arrow)\"/>\n",
       "<path stroke-width=\"1\" stroke=\"black\" d=\"M 346 91 346 56\" marker-end=\"url(#arrow)\"/>\n",
       "<path stroke-width=\"1\" stroke=\"black\" d=\"M 346 91 305 76\" marker-end=\"url(#arrow)\"/>\n",
       "<path stroke-width=\"1\" stroke=\"black\" d=\"M 346 91 339 75\" marker-end=\"url(#arrow)\"/>\n",
       "<path stroke-width=\"1\" stroke=\"black\" d=\"M 346 91 382 53\" marker-end=\"url(#arrow)\"/>\n",
       "<path stroke-width=\"1\" stroke=\"black\" d=\"M 354 21 381 44\" marker-end=\"url(#arrow)\"/>\n",
       "<path stroke-width=\"1\" stroke=\"black\" d=\"M 354 21 387 20\" marker-end=\"url(#arrow)\"/>\n",
       "<circle cx=\"20\" cy=\"320\" r=\"7.0\" style=\"fill:gray;stroke:black;stroke-width:1.0\"/>\n",
       "<circle cx=\"374\" cy=\"69\" r=\"7.0\" style=\"fill:gray;stroke:black;stroke-width:1.0\"/>\n",
       "<circle cx=\"346\" cy=\"50\" r=\"7.0\" style=\"fill:gray;stroke:black;stroke-width:1.0\"/>\n",
       "<circle cx=\"290\" cy=\"43\" r=\"7.0\" style=\"fill:gray;stroke:black;stroke-width:1.0\"/>\n",
       "<circle cx=\"299\" cy=\"74\" r=\"7.0\" style=\"fill:gray;stroke:black;stroke-width:1.0\"/>\n",
       "<circle cx=\"346\" cy=\"91\" r=\"7.0\" style=\"fill:gray;stroke:black;stroke-width:1.0\"/>\n",
       "<circle cx=\"337\" cy=\"69\" r=\"7.0\" style=\"fill:gray;stroke:black;stroke-width:1.0\"/>\n",
       "<circle cx=\"328\" cy=\"34\" r=\"7.0\" style=\"fill:gray;stroke:black;stroke-width:1.0\"/>\n",
       "<circle cx=\"386\" cy=\"48\" r=\"7.0\" style=\"fill:gray;stroke:black;stroke-width:1.0\"/>\n",
       "<circle cx=\"420\" cy=\"57\" r=\"7.0\" style=\"fill:gray;stroke:black;stroke-width:1.0\"/>\n",
       "<circle cx=\"393\" cy=\"20\" r=\"7.0\" style=\"fill:gray;stroke:black;stroke-width:1.0\"/>\n",
       "<circle cx=\"354\" cy=\"21\" r=\"7.0\" style=\"fill:gray;stroke:black;stroke-width:1.0\"/>\n",
       "</svg>"
      ],
      "text/plain": [
       "<IPython.core.display.SVG object>"
      ]
     },
     "execution_count": 138,
     "metadata": {},
     "output_type": "execute_result"
    }
   ],
   "source": [
    "adjacency1 = edgelist2adjacency(graph_dataset[1][1])\n",
    "\n",
    "image1 = svg_digraph(adjacency1)\n",
    "SVG(image1)"
   ]
  },
  {
   "cell_type": "code",
   "execution_count": 144,
   "id": "fantastic-convergence",
   "metadata": {},
   "outputs": [
    {
     "data": {
      "text/plain": [
       "47.38762817710092"
      ]
     },
     "execution_count": 144,
     "metadata": {},
     "output_type": "execute_result"
    }
   ],
   "source": [
    "distance_2graphe_diff_vertex_simple(matrice_adjacence(graph_dataset[0][1]), matrice_adjacence(graph_dataset[1][1]))"
   ]
  },
  {
   "cell_type": "code",
   "execution_count": 145,
   "id": "fresh-powder",
   "metadata": {},
   "outputs": [
    {
     "data": {
      "text/plain": [
       "36.961560664315506"
      ]
     },
     "execution_count": 145,
     "metadata": {},
     "output_type": "execute_result"
    }
   ],
   "source": [
    "distance_2graphe_diff_vertex_v2(matrice_adjacence(graph_dataset[0][1]), matrice_adjacence(graph_dataset[1][1]))"
   ]
  }
 ],
 "metadata": {
  "kernelspec": {
   "display_name": "Python 3",
   "language": "python",
   "name": "python3"
  },
  "language_info": {
   "codemirror_mode": {
    "name": "ipython",
    "version": 3
   },
   "file_extension": ".py",
   "mimetype": "text/x-python",
   "name": "python",
   "nbconvert_exporter": "python",
   "pygments_lexer": "ipython3",
   "version": "3.8.8"
  }
 },
 "nbformat": 4,
 "nbformat_minor": 5
}
