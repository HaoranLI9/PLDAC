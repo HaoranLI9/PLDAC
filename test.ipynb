{
 "metadata": {
  "language_info": {
   "codemirror_mode": {
    "name": "ipython",
    "version": 3
   },
   "file_extension": ".py",
   "mimetype": "text/x-python",
   "name": "python",
   "nbconvert_exporter": "python",
   "pygments_lexer": "ipython3",
   "version": "3.8.8"
  },
  "orig_nbformat": 2,
  "kernelspec": {
   "name": "python388jvsc74a57bd0e78acf82f6880d63d59ea2cef38fd129ce4fb41f3114ee9436a8608861aa718c",
   "display_name": "Python 3.8.8 64-bit ('base': conda)"
  }
 },
 "nbformat": 4,
 "nbformat_minor": 2,
 "cells": [
  {
   "cell_type": "code",
   "execution_count": 1,
   "metadata": {},
   "outputs": [],
   "source": [
    "from distance import distance_interpole\n",
    "from topology import topology\n",
    "t = topology()"
   ]
  },
  {
   "cell_type": "code",
   "execution_count": 8,
   "metadata": {},
   "outputs": [],
   "source": [
    "from IPython.display import SVG\n",
    "from scipy import sparse\n",
    "from sknetwork.visualization import svg_graph, svg_digraph, svg_bigraph"
   ]
  },
  {
   "cell_type": "code",
   "execution_count": 9,
   "metadata": {},
   "outputs": [
    {
     "output_type": "execute_result",
     "data": {
      "text/plain": [
       "24"
      ]
     },
     "metadata": {},
     "execution_count": 9
    }
   ],
   "source": [
    "dataset = t.make_dataset()\n",
    "len(dataset)"
   ]
  },
  {
   "cell_type": "code",
   "execution_count": 10,
   "metadata": {},
   "outputs": [
    {
     "output_type": "execute_result",
     "data": {
      "text/plain": [
       "[7, 11, 3, 0]"
      ]
     },
     "metadata": {},
     "execution_count": 10
    }
   ],
   "source": [
    "t.identifier(dataset, dataset[7])"
   ]
  },
  {
   "cell_type": "code",
   "execution_count": 11,
   "metadata": {},
   "outputs": [
    {
     "output_type": "execute_result",
     "data": {
      "text/plain": [
       "<IPython.core.display.SVG object>"
      ],
      "image/svg+xml": "<svg xmlns=\"http://www.w3.org/2000/svg\" width=\"440\" height=\"340\">\n<path stroke-width=\"1.0\" stroke=\"black\" d=\"M 216 169 172 320\"/>\n<path stroke-width=\"1.0\" stroke=\"black\" d=\"M 216 169 265 20\"/>\n<path stroke-width=\"1.0\" stroke=\"black\" d=\"M 216 169 20 134\"/>\n<path stroke-width=\"1.0\" stroke=\"black\" d=\"M 216 169 420 203\"/>\n<path stroke-width=\"1.0\" stroke=\"black\" d=\"M 172 320 216 169\"/>\n<path stroke-width=\"1.0\" stroke=\"black\" d=\"M 265 20 216 169\"/>\n<path stroke-width=\"1.0\" stroke=\"black\" d=\"M 20 134 216 169\"/>\n<path stroke-width=\"1.0\" stroke=\"black\" d=\"M 420 203 216 169\"/>\n<circle cx=\"216\" cy=\"169\" r=\"7.0\" style=\"fill:gray;stroke:black;stroke-width:1.0\"/>\n<circle cx=\"172\" cy=\"320\" r=\"7.0\" style=\"fill:gray;stroke:black;stroke-width:1.0\"/>\n<circle cx=\"265\" cy=\"20\" r=\"7.0\" style=\"fill:gray;stroke:black;stroke-width:1.0\"/>\n<circle cx=\"20\" cy=\"134\" r=\"7.0\" style=\"fill:gray;stroke:black;stroke-width:1.0\"/>\n<circle cx=\"420\" cy=\"203\" r=\"7.0\" style=\"fill:gray;stroke:black;stroke-width:1.0\"/>\n</svg>"
     },
     "metadata": {},
     "execution_count": 11
    }
   ],
   "source": [
    "adjacency_matrix = sparse.csr_matrix(dataset[7])\n",
    "image = svg_graph(adjacency_matrix)\n",
    "SVG(image)"
   ]
  },
  {
   "cell_type": "code",
   "execution_count": 12,
   "metadata": {},
   "outputs": [
    {
     "output_type": "execute_result",
     "data": {
      "text/plain": [
       "<IPython.core.display.SVG object>"
      ],
      "image/svg+xml": "<svg xmlns=\"http://www.w3.org/2000/svg\" width=\"440\" height=\"340\">\n<path stroke-width=\"1.0\" stroke=\"black\" d=\"M 215 158 20 222\"/>\n<path stroke-width=\"1.0\" stroke=\"black\" d=\"M 215 158 420 194\"/>\n<path stroke-width=\"1.0\" stroke=\"black\" d=\"M 215 158 74 38\"/>\n<path stroke-width=\"1.0\" stroke=\"black\" d=\"M 215 158 321 20\"/>\n<path stroke-width=\"1.0\" stroke=\"black\" d=\"M 215 158 233 320\"/>\n<path stroke-width=\"1.0\" stroke=\"black\" d=\"M 20 222 215 158\"/>\n<path stroke-width=\"1.0\" stroke=\"black\" d=\"M 420 194 215 158\"/>\n<path stroke-width=\"1.0\" stroke=\"black\" d=\"M 74 38 215 158\"/>\n<path stroke-width=\"1.0\" stroke=\"black\" d=\"M 321 20 215 158\"/>\n<path stroke-width=\"1.0\" stroke=\"black\" d=\"M 233 320 215 158\"/>\n<circle cx=\"215\" cy=\"158\" r=\"7.0\" style=\"fill:gray;stroke:black;stroke-width:1.0\"/>\n<circle cx=\"20\" cy=\"222\" r=\"7.0\" style=\"fill:gray;stroke:black;stroke-width:1.0\"/>\n<circle cx=\"420\" cy=\"194\" r=\"7.0\" style=\"fill:gray;stroke:black;stroke-width:1.0\"/>\n<circle cx=\"74\" cy=\"38\" r=\"7.0\" style=\"fill:gray;stroke:black;stroke-width:1.0\"/>\n<circle cx=\"321\" cy=\"20\" r=\"7.0\" style=\"fill:gray;stroke:black;stroke-width:1.0\"/>\n<circle cx=\"233\" cy=\"320\" r=\"7.0\" style=\"fill:gray;stroke:black;stroke-width:1.0\"/>\n</svg>"
     },
     "metadata": {},
     "execution_count": 12
    }
   ],
   "source": [
    "adjacency_matrix = sparse.csr_matrix(dataset[11])\n",
    "image = svg_graph(adjacency_matrix)\n",
    "SVG(image)"
   ]
  },
  {
   "cell_type": "code",
   "execution_count": null,
   "metadata": {},
   "outputs": [],
   "source": []
  }
 ]
}