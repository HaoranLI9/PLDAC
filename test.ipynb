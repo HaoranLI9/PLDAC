{
 "cells": [
  {
   "cell_type": "code",
   "execution_count": 12,
   "metadata": {},
   "outputs": [],
   "source": [
    "from distance import distance_2graphe_diff_vertex_v2\n",
    "from topology import *\n",
    "\n",
    "from IPython.display import SVG\n",
    "from scipy import sparse\n",
    "from sknetwork.visualization import svg_graph, svg_digraph, svg_bigraph\n",
    "\n",
    "from matrice import matrice_adjacence,matrice_degree,matrice_laplacien\n",
    "from sknetwork.utils import edgelist2adjacency, edgelist2biadjacency\n",
    "import numpy as np\n",
    "\n",
    "from generator import make_random_edgelist"
   ]
  },
  {
   "cell_type": "code",
   "execution_count": 13,
   "metadata": {},
   "outputs": [
    {
     "output_type": "execute_result",
     "data": {
      "text/plain": [
       "[(1, 0), (1, 3), (1, 2), (2, 0), (2, 3), (3, 0), (3, 2), (3, 1)]"
      ]
     },
     "metadata": {},
     "execution_count": 13
    }
   ],
   "source": [
    "make_random_edgelist(4)"
   ]
  },
  {
   "cell_type": "code",
   "execution_count": 14,
   "metadata": {},
   "outputs": [
    {
     "output_type": "execute_result",
     "data": {
      "text/plain": [
       "24"
      ]
     },
     "metadata": {},
     "execution_count": 14
    }
   ],
   "source": [
    "dataset = make_dataset()\n",
    "len(dataset)"
   ]
  },
  {
   "cell_type": "code",
   "execution_count": 15,
   "metadata": {},
   "outputs": [
    {
     "output_type": "execute_result",
     "data": {
      "text/plain": [
       "[7, 11, 3, 0]"
      ]
     },
     "metadata": {},
     "execution_count": 15
    }
   ],
   "source": [
    "identifier(dataset, dataset[7])"
   ]
  },
  {
   "cell_type": "code",
   "execution_count": 16,
   "metadata": {},
   "outputs": [
    {
     "output_type": "execute_result",
     "data": {
      "text/plain": [
       "<IPython.core.display.SVG object>"
      ],
      "image/svg+xml": "<svg xmlns=\"http://www.w3.org/2000/svg\" width=\"440\" height=\"340\">\n<path stroke-width=\"1.0\" stroke=\"black\" d=\"M 218 169 81 20\"/>\n<path stroke-width=\"1.0\" stroke=\"black\" d=\"M 218 169 355 320\"/>\n<path stroke-width=\"1.0\" stroke=\"black\" d=\"M 218 169 20 272\"/>\n<path stroke-width=\"1.0\" stroke=\"black\" d=\"M 218 169 420 66\"/>\n<path stroke-width=\"1.0\" stroke=\"black\" d=\"M 81 20 218 169\"/>\n<path stroke-width=\"1.0\" stroke=\"black\" d=\"M 355 320 218 169\"/>\n<path stroke-width=\"1.0\" stroke=\"black\" d=\"M 20 272 218 169\"/>\n<path stroke-width=\"1.0\" stroke=\"black\" d=\"M 420 66 218 169\"/>\n<circle cx=\"218\" cy=\"169\" r=\"7.0\" style=\"fill:gray;stroke:black;stroke-width:1.0\"/>\n<circle cx=\"81\" cy=\"20\" r=\"7.0\" style=\"fill:gray;stroke:black;stroke-width:1.0\"/>\n<circle cx=\"355\" cy=\"320\" r=\"7.0\" style=\"fill:gray;stroke:black;stroke-width:1.0\"/>\n<circle cx=\"20\" cy=\"272\" r=\"7.0\" style=\"fill:gray;stroke:black;stroke-width:1.0\"/>\n<circle cx=\"420\" cy=\"66\" r=\"7.0\" style=\"fill:gray;stroke:black;stroke-width:1.0\"/>\n</svg>"
     },
     "metadata": {},
     "execution_count": 16
    }
   ],
   "source": [
    "adjacency_matrix = sparse.csr_matrix(dataset[7])\n",
    "image = svg_graph(adjacency_matrix)\n",
    "SVG(image)"
   ]
  },
  {
   "cell_type": "code",
   "execution_count": 17,
   "metadata": {},
   "outputs": [
    {
     "output_type": "execute_result",
     "data": {
      "text/plain": [
       "<IPython.core.display.SVG object>"
      ],
      "image/svg+xml": "<svg xmlns=\"http://www.w3.org/2000/svg\" width=\"440\" height=\"340\">\n<path stroke-width=\"1.0\" stroke=\"black\" d=\"M 232 164 179 320\"/>\n<path stroke-width=\"1.0\" stroke=\"black\" d=\"M 232 164 420 252\"/>\n<path stroke-width=\"1.0\" stroke=\"black\" d=\"M 232 164 20 177\"/>\n<path stroke-width=\"1.0\" stroke=\"black\" d=\"M 232 164 403 66\"/>\n<path stroke-width=\"1.0\" stroke=\"black\" d=\"M 232 164 158 20\"/>\n<path stroke-width=\"1.0\" stroke=\"black\" d=\"M 179 320 232 164\"/>\n<path stroke-width=\"1.0\" stroke=\"black\" d=\"M 420 252 232 164\"/>\n<path stroke-width=\"1.0\" stroke=\"black\" d=\"M 20 177 232 164\"/>\n<path stroke-width=\"1.0\" stroke=\"black\" d=\"M 403 66 232 164\"/>\n<path stroke-width=\"1.0\" stroke=\"black\" d=\"M 158 20 232 164\"/>\n<circle cx=\"232\" cy=\"164\" r=\"7.0\" style=\"fill:gray;stroke:black;stroke-width:1.0\"/>\n<circle cx=\"179\" cy=\"320\" r=\"7.0\" style=\"fill:gray;stroke:black;stroke-width:1.0\"/>\n<circle cx=\"420\" cy=\"252\" r=\"7.0\" style=\"fill:gray;stroke:black;stroke-width:1.0\"/>\n<circle cx=\"20\" cy=\"177\" r=\"7.0\" style=\"fill:gray;stroke:black;stroke-width:1.0\"/>\n<circle cx=\"403\" cy=\"66\" r=\"7.0\" style=\"fill:gray;stroke:black;stroke-width:1.0\"/>\n<circle cx=\"158\" cy=\"20\" r=\"7.0\" style=\"fill:gray;stroke:black;stroke-width:1.0\"/>\n</svg>"
     },
     "metadata": {},
     "execution_count": 17
    }
   ],
   "source": [
    "adjacency_matrix = sparse.csr_matrix(dataset[11])\n",
    "image = svg_graph(adjacency_matrix)\n",
    "SVG(image)"
   ]
  },
  {
   "cell_type": "code",
   "execution_count": null,
   "metadata": {},
   "outputs": [],
   "source": []
  }
 ],
 "metadata": {
  "kernelspec": {
   "name": "python388jvsc74a57bd0e78acf82f6880d63d59ea2cef38fd129ce4fb41f3114ee9436a8608861aa718c",
   "display_name": "Python 3.8.8 64-bit ('base': conda)"
  },
  "language_info": {
   "codemirror_mode": {
    "name": "ipython",
    "version": 3
   },
   "file_extension": ".py",
   "mimetype": "text/x-python",
   "name": "python",
   "nbconvert_exporter": "python",
   "pygments_lexer": "ipython3",
   "version": "3.8.8"
  }
 },
 "nbformat": 4,
 "nbformat_minor": 2
}